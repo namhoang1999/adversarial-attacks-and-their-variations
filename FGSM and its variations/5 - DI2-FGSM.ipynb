{
 "cells": [
  {
   "cell_type": "code",
   "execution_count": 74,
   "id": "90933db7",
   "metadata": {},
   "outputs": [
    {
     "name": "stdout",
     "output_type": "stream",
     "text": [
      "CUDA Available:  True\n",
      "NeuralNetwork(\n",
      "  (flatten): Flatten(start_dim=1, end_dim=-1)\n",
      "  (linear_relu_stack): Sequential(\n",
      "    (0): Linear(in_features=784, out_features=512, bias=True)\n",
      "    (1): ReLU()\n",
      "    (2): Linear(in_features=512, out_features=512, bias=True)\n",
      "    (3): ReLU()\n",
      "    (4): Linear(in_features=512, out_features=10, bias=True)\n",
      "    (5): Softmax(dim=1)\n",
      "  )\n",
      ")\n"
     ]
    }
   ],
   "source": [
    "%run pretrained-model.ipynb"
   ]
  },
  {
   "cell_type": "code",
   "execution_count": 75,
   "id": "ec4b141a",
   "metadata": {},
   "outputs": [
    {
     "data": {
      "text/plain": [
       "<torch._C.Generator at 0x258eff7ea90>"
      ]
     },
     "execution_count": 75,
     "metadata": {},
     "output_type": "execute_result"
    }
   ],
   "source": [
    "import random\n",
    "import torchvision\n",
    "torch.manual_seed(17)"
   ]
  },
  {
   "cell_type": "code",
   "execution_count": 76,
   "id": "777cd9a2",
   "metadata": {},
   "outputs": [],
   "source": [
    "def diversify(image, prob=0.5, rand_range=(22,27)):  \n",
    "    \"\"\"Input diversify method\n",
    "\n",
    "    image:      The input image X\n",
    "    prob:       The transform probability\n",
    "    rand_range: The range of random size to resize to\n",
    "    \n",
    "    return:     The transformed image \n",
    "    \"\"\" \n",
    "    if random.uniform(0, 1) < prob:\n",
    "        return image\n",
    "        \n",
    "    # random resize\n",
    "    rand_from, rand_to = rand_range\n",
    "    rnd = random.randint(rand_from, rand_to)\n",
    "    resize = torchvision.transforms.Resize((rnd, rnd))\n",
    "    \n",
    "    # random padding\n",
    "    remained = 28 - rnd\n",
    "    pad_top = random.randint(0, remained)\n",
    "    pad_bottom = remained - pad_top\n",
    "    pad_left = random.randint(0, remained)\n",
    "    pad_right = remained - pad_left\n",
    "    pad = torchvision.transforms.Pad(padding=[pad_top, pad_left, pad_bottom, pad_right], \n",
    "                                     fill=0, \n",
    "                                     padding_mode='constant')\n",
    "    \n",
    "    # apply transformation\n",
    "    resized = resize(image)\n",
    "    padded  = pad(resized)\n",
    "\n",
    "    return padded\n",
    "    "
   ]
  },
  {
   "cell_type": "code",
   "execution_count": 77,
   "id": "cc0383a0",
   "metadata": {},
   "outputs": [],
   "source": [
    "def diifgsm(image, label, epsilon, iters, prob, rand_range):\n",
    "    \"\"\"Perform I-FGSM attack on an image\n",
    "\n",
    "    image:     The input image X\n",
    "    label:     The image label y\n",
    "    epsilon:   The adversarial perturbation size\n",
    "    iters:     The number of iterations\n",
    "    \n",
    "    return:    The adversatial image X*\n",
    "    \"\"\" \n",
    "    for _ in range(iters):\n",
    "        # Setting this is important for the attack\n",
    "        image.requires_grad = True\n",
    "\n",
    "        # Obtain the gradients\n",
    "        output = model(diversify(image, \n",
    "                                 prob=prob,\n",
    "                                 rand_range=rand_range).to(device))\n",
    "        loss = F.nll_loss(output, label)\n",
    "        model.zero_grad()\n",
    "        loss.backward()\n",
    "\n",
    "        # Create the perturbed image by adjusting each pixel of the input image\n",
    "        image = image + epsilon * image.grad.data.sign()\n",
    "        image = torch.clamp(image, min=0, max=1).detach()\n",
    "    \n",
    "    return image"
   ]
  },
  {
   "cell_type": "code",
   "execution_count": 78,
   "id": "ddd44dab",
   "metadata": {},
   "outputs": [],
   "source": [
    "correct = 0\n",
    "test_loader_iter = iter(test_loader)\n",
    "\n",
    "for j in range(1000):\n",
    "    image, label = next(test_loader_iter)\n",
    "    \n",
    "    initial_prediction = torch.argmax(model(image.to(device))).item()\n",
    "    # Don't bother attacking if the image is already misclassified\n",
    "    if initial_prediction != label:\n",
    "        continue\n",
    "\n",
    "    # Generate FGSM adversarial example\n",
    "    adv_image = diifgsm(image      = image.to(device), \n",
    "                        label      = label.to(device), \n",
    "                        epsilon    = 0.1, \n",
    "                        iters      = 3, \n",
    "                        prob       = 0.5, \n",
    "                        rand_range = (22,27))\n",
    "\n",
    "    final_prediction = torch.argmax(model(adv_image)).item()\n",
    "\n",
    "    # Correct if the prediction is the target label\n",
    "    if final_prediction != label:\n",
    "        correct += 1\n",
    "    \n",
    "# Calculate final accuracy for this epsilon    \n",
    "accuracy = correct/1000"
   ]
  },
  {
   "cell_type": "code",
   "execution_count": 79,
   "id": "9721e2e9",
   "metadata": {},
   "outputs": [
    {
     "data": {
      "text/plain": [
       "0.959"
      ]
     },
     "execution_count": 79,
     "metadata": {},
     "output_type": "execute_result"
    }
   ],
   "source": [
    "accuracy"
   ]
  },
  {
   "cell_type": "code",
   "execution_count": null,
   "id": "bc743e50",
   "metadata": {},
   "outputs": [],
   "source": []
  }
 ],
 "metadata": {
  "kernelspec": {
   "display_name": "Python 3 (ipykernel)",
   "language": "python",
   "name": "python3"
  },
  "language_info": {
   "codemirror_mode": {
    "name": "ipython",
    "version": 3
   },
   "file_extension": ".py",
   "mimetype": "text/x-python",
   "name": "python",
   "nbconvert_exporter": "python",
   "pygments_lexer": "ipython3",
   "version": "3.8.12"
  }
 },
 "nbformat": 4,
 "nbformat_minor": 5
}
