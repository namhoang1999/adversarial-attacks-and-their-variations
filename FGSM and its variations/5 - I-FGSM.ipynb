{
 "cells": [
  {
   "cell_type": "code",
   "execution_count": 1,
   "id": "f6e8b3f3",
   "metadata": {},
   "outputs": [
    {
     "name": "stdout",
     "output_type": "stream",
     "text": [
      "CUDA Available:  True\n",
      "NeuralNetwork(\n",
      "  (flatten): Flatten(start_dim=1, end_dim=-1)\n",
      "  (linear_relu_stack): Sequential(\n",
      "    (0): Linear(in_features=784, out_features=512, bias=True)\n",
      "    (1): ReLU()\n",
      "    (2): Linear(in_features=512, out_features=512, bias=True)\n",
      "    (3): ReLU()\n",
      "    (4): Linear(in_features=512, out_features=10, bias=True)\n",
      "    (5): Softmax(dim=1)\n",
      "  )\n",
      ")\n"
     ]
    }
   ],
   "source": [
    "%run pretrained-model.ipynb"
   ]
  },
  {
   "cell_type": "code",
   "execution_count": 19,
   "id": "f9791756",
   "metadata": {},
   "outputs": [],
   "source": [
    "def ifgsm(image, label, epsilon, iters):\n",
    "    \"\"\"Perform I-FGSM attack on an image\n",
    "\n",
    "    image:     The input image X\n",
    "    label:     The image label y\n",
    "    epsilon:   The adversarial perturbation size\n",
    "    iters:     The number of iterations\n",
    "    \n",
    "    return:    The adversatial image X*\n",
    "    \"\"\" \n",
    "    for _ in range(iters):\n",
    "        # Setting this is important for the attack\n",
    "        image.requires_grad = True\n",
    "\n",
    "        # Obtain the gradients\n",
    "        output = model(image.to(device))\n",
    "        loss = F.nll_loss(output, label)\n",
    "        model.zero_grad()\n",
    "        loss.backward()\n",
    "\n",
    "        # Create the perturbed image by adjusting each pixel of the input image\n",
    "        image = image + epsilon * image.grad.data.sign()\n",
    "        image = torch.clamp(image, min=0, max=1).detach()\n",
    "    \n",
    "    return image"
   ]
  },
  {
   "cell_type": "code",
   "execution_count": 20,
   "id": "8aded5e5",
   "metadata": {},
   "outputs": [],
   "source": [
    "correct = 0\n",
    "test_loader_iter = iter(test_loader)\n",
    "\n",
    "for j in range(1000):\n",
    "    image, label = next(test_loader_iter)\n",
    "    \n",
    "    initial_prediction = torch.argmax(model(image.to(device))).item()\n",
    "    # Don't bother attacking if the image is already misclassified\n",
    "    if initial_prediction != label:\n",
    "        continue\n",
    "\n",
    "    # Generate FGSM adversarial example\n",
    "    adv_image = ifgsm(image   = image.to(device), \n",
    "                      label   = label.to(device), \n",
    "                      epsilon = 0.1, \n",
    "                      iters   = 3)\n",
    "\n",
    "    final_prediction = torch.argmax(model(adv_image)).item()\n",
    "\n",
    "    # Correct if the prediction is the target label\n",
    "    if final_prediction != label:\n",
    "        correct += 1\n",
    "    \n",
    "# Calculate final accuracy for this epsilon    \n",
    "accuracy = correct/1000"
   ]
  },
  {
   "cell_type": "code",
   "execution_count": 21,
   "id": "ddd006d5",
   "metadata": {},
   "outputs": [
    {
     "data": {
      "text/plain": [
       "0.981"
      ]
     },
     "execution_count": 21,
     "metadata": {},
     "output_type": "execute_result"
    }
   ],
   "source": [
    "accuracy"
   ]
  },
  {
   "cell_type": "code",
   "execution_count": null,
   "id": "b0d40d88",
   "metadata": {},
   "outputs": [],
   "source": []
  }
 ],
 "metadata": {
  "kernelspec": {
   "display_name": "Python 3 (ipykernel)",
   "language": "python",
   "name": "python3"
  },
  "language_info": {
   "codemirror_mode": {
    "name": "ipython",
    "version": 3
   },
   "file_extension": ".py",
   "mimetype": "text/x-python",
   "name": "python",
   "nbconvert_exporter": "python",
   "pygments_lexer": "ipython3",
   "version": "3.8.12"
  }
 },
 "nbformat": 4,
 "nbformat_minor": 5
}
