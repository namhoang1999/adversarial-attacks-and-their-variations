{
 "cells": [
  {
   "cell_type": "code",
   "execution_count": 1,
   "id": "0ecc4b8c",
   "metadata": {},
   "outputs": [
    {
     "name": "stdout",
     "output_type": "stream",
     "text": [
      "CUDA Available:  True\n"
     ]
    }
   ],
   "source": [
    "from __future__ import print_function\n",
    "import torch\n",
    "import torch.nn as nn\n",
    "import torch.nn.functional as F\n",
    "import torch.optim as optim\n",
    "from torchvision import datasets, transforms\n",
    "import numpy as np\n",
    "import matplotlib.pyplot as plt\n",
    "from torchvision import models\n",
    "\n",
    "# Define what device we are using\n",
    "use_cuda=True\n",
    "print(\"CUDA Available: \",torch.cuda.is_available())\n",
    "device = torch.device(\"cuda\" if (use_cuda and torch.cuda.is_available()) else \"cpu\")"
   ]
  },
  {
   "cell_type": "code",
   "execution_count": 2,
   "id": "45317b71",
   "metadata": {},
   "outputs": [],
   "source": [
    "# NOTE: This is a hack to get around \"User-agent\" limitations when downloading MNIST datasets\n",
    "#       see, https://github.com/pytorch/vision/issues/3497 for more information\n",
    "from six.moves import urllib\n",
    "opener = urllib.request.build_opener()\n",
    "opener.addheaders = [('User-agent', 'Mozilla/5.0')]\n",
    "urllib.request.install_opener(opener)\n",
    "\n",
    "# MNIST Test dataset and dataloader declaration\n",
    "test_loader = torch.utils.data.DataLoader(\n",
    "    datasets.MNIST('../data', train=False, download=True, transform=transforms.Compose([\n",
    "            transforms.ToTensor(),\n",
    "            ])),\n",
    "        batch_size=1, shuffle=True)"
   ]
  },
  {
   "cell_type": "code",
   "execution_count": 3,
   "id": "fcd3d13c",
   "metadata": {},
   "outputs": [],
   "source": [
    "# LeNet Model definition\n",
    "class Net(nn.Module):\n",
    "    def __init__(self):\n",
    "        super(Net, self).__init__()\n",
    "        self.conv1 = nn.Conv2d(1, 10, kernel_size=5)\n",
    "        self.conv2 = nn.Conv2d(10, 20, kernel_size=5)\n",
    "        self.conv2_drop = nn.Dropout2d()\n",
    "        self.fc1 = nn.Linear(320, 50)\n",
    "        self.fc2 = nn.Linear(50, 10)\n",
    "\n",
    "    def forward(self, x):\n",
    "        x = F.relu(F.max_pool2d(self.conv1(x), 2))\n",
    "        x = F.relu(F.max_pool2d(self.conv2_drop(self.conv2(x)), 2))\n",
    "        x = x.view(-1, 320)\n",
    "        x = F.relu(self.fc1(x))\n",
    "        x = F.dropout(x, training=self.training)\n",
    "        x = self.fc2(x)\n",
    "        return F.log_softmax(x, dim=1)"
   ]
  },
  {
   "cell_type": "code",
   "execution_count": 4,
   "id": "dcbcdf10",
   "metadata": {},
   "outputs": [
    {
     "data": {
      "text/plain": [
       "Net(\n",
       "  (conv1): Conv2d(1, 10, kernel_size=(5, 5), stride=(1, 1))\n",
       "  (conv2): Conv2d(10, 20, kernel_size=(5, 5), stride=(1, 1))\n",
       "  (conv2_drop): Dropout2d(p=0.5, inplace=False)\n",
       "  (fc1): Linear(in_features=320, out_features=50, bias=True)\n",
       "  (fc2): Linear(in_features=50, out_features=10, bias=True)\n",
       ")"
      ]
     },
     "execution_count": 4,
     "metadata": {},
     "output_type": "execute_result"
    }
   ],
   "source": [
    "# Initialize the network\n",
    "model = Net().to(device)\n",
    "\n",
    "# Load the pretrained model\n",
    "pretrained_model = \"data/lenet_mnist_model.pth\"\n",
    "model.load_state_dict(torch.load(pretrained_model, map_location='cpu'))\n",
    "\n",
    "# Set the model in evaluation mode. In this case this is for the Dropout layers\n",
    "model.eval()"
   ]
  },
  {
   "cell_type": "code",
   "execution_count": 5,
   "id": "96202bd2",
   "metadata": {},
   "outputs": [],
   "source": [
    "# FGSM attack code\n",
    "def fgsm_attack(image, alpha, data_grad):\n",
    "    # Create the perturbed image by adjusting each pixel of the input image\n",
    "    perturbed_image = image + alpha*data_grad.sign()\n",
    "    # Adding clipping to maintain [0,1] range\n",
    "    perturbed_image = torch.clamp(perturbed_image, 0, 1)\n",
    "    # Return the perturbed image\n",
    "    return perturbed_image"
   ]
  },
  {
   "cell_type": "code",
   "execution_count": 12,
   "id": "b74005e0",
   "metadata": {},
   "outputs": [],
   "source": [
    "def mi_fgsm_attack(data, target, epsilon, alpha, T, mu):\n",
    "    perturbed_image = data\n",
    "    \n",
    "    g = 0\n",
    "    \n",
    "    for i in range(T):\n",
    "        data.requires_grad = True\n",
    "\n",
    "        output = model(data)\n",
    "        loss = F.nll_loss(output, target)\n",
    "        \n",
    "        model.zero_grad()\n",
    "        loss.backward()\n",
    "        \n",
    "        data_grad = data.grad.data\n",
    "        \n",
    "        g += data_grad * mu\n",
    "        perturbed_image = fgsm_attack(perturbed_image, alpha, g)\n",
    "    \n",
    "    return perturbed_image"
   ]
  },
  {
   "cell_type": "code",
   "execution_count": 13,
   "id": "931a74c0",
   "metadata": {},
   "outputs": [],
   "source": [
    "def test( model, device, test_loader, epsilon, alpha, T, mu ):\n",
    "\n",
    "    # Accuracy counter\n",
    "    top1_correct = 0\n",
    "    top5_correct = 0\n",
    "    adv_examples = []\n",
    "\n",
    "    # Loop over all examples in test set\n",
    "    for data, target in test_loader:\n",
    "        # Send the data and label to the device\n",
    "        data, target = data.to(device), target.to(device)\n",
    "\n",
    "        # Call FGSM Attack\n",
    "        perturbed_data = mi_fgsm_attack(data, target, epsilon, alpha, T, mu)\n",
    "        \n",
    "        # Re-classify the perturbed image\n",
    "        output = model(perturbed_data)\n",
    "        final_pred_top1 = torch.topk(output, 1).indices # get the index of the max log-probability\n",
    "        final_pred_top5 = torch.topk(output, 5).indices # get the index of the max log-probability\n",
    "        \n",
    "        if final_pred_top1.item() == target.item():\n",
    "            top1_correct += 1\n",
    "        if target.item() in final_pred_top5:\n",
    "            top5_correct += 1\n",
    "        \n",
    "        # Check for success\n",
    "        if final_pred_top1.item() != target.item():\n",
    "            # Save some adv examples for visualization later\n",
    "            if len(adv_examples) < 5:\n",
    "                adv_ex = perturbed_data.squeeze().detach().cpu().numpy()\n",
    "                adv_examples.append( (final_pred_top1.item(), adv_ex) )\n",
    "        \n",
    "    # Calculate final accuracy for this epsilon\n",
    "    top1_accuracy = top1_correct/float(len(test_loader))\n",
    "    top5_accuracy = top5_correct/float(len(test_loader))\n",
    "    print(\"Top-1 Accuracy = {} / {} = {}\\t | Top-5 Accuracy = {} / {} = {}\".format(top1_correct, len(test_loader), top1_accuracy,\n",
    "                                                                                 top5_correct, len(test_loader), top5_accuracy))\n",
    "\n",
    "    # Return the accuracy and an adversarial example\n",
    "    return top1_accuracy, top5_accuracy, adv_examples"
   ]
  },
  {
   "cell_type": "code",
   "execution_count": 15,
   "id": "889af6da",
   "metadata": {},
   "outputs": [
    {
     "name": "stdout",
     "output_type": "stream",
     "text": [
      "Top-1 Accuracy = 8510 / 10000 = 0.851\t | Top-5 Accuracy = 9934 / 10000 = 0.9934\n",
      "Top-1 Accuracy = 4301 / 10000 = 0.4301\t | Top-5 Accuracy = 9379 / 10000 = 0.9379\n",
      "Top-1 Accuracy = 869 / 10000 = 0.0869\t | Top-5 Accuracy = 6751 / 10000 = 0.6751\n",
      "Top-1 Accuracy = 167 / 10000 = 0.0167\t | Top-5 Accuracy = 3584 / 10000 = 0.3584\n"
     ]
    }
   ],
   "source": [
    "top1_accuracy = []\n",
    "top5_accuracy = []\n",
    "examples = []\n",
    "iterations = [1, 2, 3, 4]\n",
    "alpha = 0.1\n",
    "mu = 0.8\n",
    "# Run test for each epsilon\n",
    "for T in iterations:\n",
    "    acc1, acc5, ex = test(model, device, test_loader, eps, alpha, T, mu)\n",
    "    top1_accuracy.append(acc1)\n",
    "    top5_accuracy.append(acc5)\n",
    "    examples.append(ex)"
   ]
  },
  {
   "cell_type": "code",
   "execution_count": 16,
   "id": "e6f0cb31",
   "metadata": {},
   "outputs": [
    {
     "data": {
      "image/png": "[encoded data removed]",
      "text/plain": [
       "<Figure size 360x360 with 1 Axes>"
      ]
     },
     "metadata": {
      "needs_background": "light"
     },
     "output_type": "display_data"
    }
   ],
   "source": [
    "plt.figure(figsize=(5,5))\n",
    "plt.plot(epsilons, top1_accuracy, \"*-\", label=\"Top-1\")\n",
    "plt.plot(epsilons, top5_accuracy, \"*-\", label=\"Top-5\")\n",
    "plt.title(\"Accuracy vs Epsilon\")\n",
    "plt.xlabel(\"Epsilon\")\n",
    "plt.ylabel(\"Accuracy\")\n",
    "plt.legend(loc=\"upper right\")\n",
    "plt.show()"
   ]
  },
  {
   "cell_type": "code",
   "execution_count": null,
   "id": "c8736f45",
   "metadata": {},
   "outputs": [],
   "source": []
  },
  {
   "cell_type": "code",
   "execution_count": null,
   "id": "1462c561",
   "metadata": {},
   "outputs": [],
   "source": []
  }
 ],
 "metadata": {
  "kernelspec": {
   "display_name": "Python 3 (ipykernel)",
   "language": "python",
   "name": "python3"
  },
  "language_info": {
   "codemirror_mode": {
    "name": "ipython",
    "version": 3
   },
   "file_extension": ".py",
   "mimetype": "text/x-python",
   "name": "python",
   "nbconvert_exporter": "python",
   "pygments_lexer": "ipython3",
   "version": "3.8.12"
  }
 },
 "nbformat": 4,
 "nbformat_minor": 5
}
