{
 "cells": [
  {
   "cell_type": "code",
   "execution_count": 1,
   "id": "bd304435",
   "metadata": {},
   "outputs": [
    {
     "name": "stdout",
     "output_type": "stream",
     "text": [
      "CUDA Available:  True\n",
      "NeuralNetwork(\n",
      "  (flatten): Flatten(start_dim=1, end_dim=-1)\n",
      "  (linear_relu_stack): Sequential(\n",
      "    (0): Linear(in_features=784, out_features=512, bias=True)\n",
      "    (1): ReLU()\n",
      "    (2): Linear(in_features=512, out_features=512, bias=True)\n",
      "    (3): ReLU()\n",
      "    (4): Linear(in_features=512, out_features=10, bias=True)\n",
      "    (5): Softmax(dim=1)\n",
      "  )\n",
      ")\n"
     ]
    }
   ],
   "source": [
    "%run pretrained-model.ipynb"
   ]
  },
  {
   "cell_type": "code",
   "execution_count": 2,
   "id": "cc405cae",
   "metadata": {},
   "outputs": [
    {
     "data": {
      "text/plain": [
       "<torch._C.Generator at 0x228158d7770>"
      ]
     },
     "execution_count": 2,
     "metadata": {},
     "output_type": "execute_result"
    }
   ],
   "source": [
    "import random\n",
    "import torchvision\n",
    "torch.manual_seed(17)"
   ]
  },
  {
   "cell_type": "code",
   "execution_count": 3,
   "id": "7937a760",
   "metadata": {},
   "outputs": [],
   "source": [
    "# FGSM attack code\n",
    "def fgsm_attack(image, alpha, data_grad):\n",
    "    # Create the perturbed image by adjusting each pixel of the input image\n",
    "    perturbed_image = image + alpha*data_grad.sign()\n",
    "    # Adding clipping to maintain [0,1] range\n",
    "    perturbed_image = torch.clamp(perturbed_image, 0, 1)\n",
    "    # Return the perturbed image\n",
    "    return perturbed_image"
   ]
  },
  {
   "cell_type": "code",
   "execution_count": 4,
   "id": "806a418b",
   "metadata": {},
   "outputs": [],
   "source": [
    "def diversify(image, prob=0.5, rand_range=(22,27)):  \n",
    "    \"\"\"Input diversify method\n",
    "\n",
    "    image:      The input image X\n",
    "    prob:       The transform probability\n",
    "    rand_range: The range of random size to resize to\n",
    "    \n",
    "    return:     The transformed image \n",
    "    \"\"\" \n",
    "    if random.uniform(0, 1) < prob:\n",
    "        return image\n",
    "        \n",
    "    # random resize\n",
    "    rand_from, rand_to = rand_range\n",
    "    rnd = random.randint(rand_from, rand_to)\n",
    "    resize = torchvision.transforms.Resize((rnd, rnd))\n",
    "    \n",
    "    # random padding\n",
    "    remained = 28 - rnd\n",
    "    pad_top = random.randint(0, remained)\n",
    "    pad_bottom = remained - pad_top\n",
    "    pad_left = random.randint(0, remained)\n",
    "    pad_right = remained - pad_left\n",
    "    pad = torchvision.transforms.Pad(padding=[pad_top, pad_left, pad_bottom, pad_right], \n",
    "                                     fill=0, \n",
    "                                     padding_mode='constant')\n",
    "    \n",
    "    # apply transformation\n",
    "    resized = resize(image)\n",
    "    padded  = pad(resized)\n",
    "\n",
    "    return padded\n",
    "    "
   ]
  },
  {
   "cell_type": "code",
   "execution_count": 14,
   "id": "5e9da9e5",
   "metadata": {},
   "outputs": [],
   "source": [
    "def mdiifgsm(image, label, epsilon, iters, decay, prob, rand_range):\n",
    "    \"\"\"Perform I-FGSM attack on an image\n",
    "\n",
    "    image:     The input image X\n",
    "    label:     The image label y\n",
    "    epsilon:   The adversarial perturbation size\n",
    "    iters:     The number of iterations\n",
    "    \n",
    "    return:    The adversatial image X*\n",
    "    \"\"\" \n",
    "    grad = 0 \n",
    "    for _ in range(iters):\n",
    "        # Setting this is important for the attack\n",
    "        image.requires_grad = True\n",
    "\n",
    "        # Obtain the gradients\n",
    "        output = model(diversify(image, \n",
    "                                 prob=prob,\n",
    "                                 rand_range=rand_range).to(device))\n",
    "        loss = F.nll_loss(output, label)\n",
    "        model.zero_grad()\n",
    "        loss.backward()\n",
    "\n",
    "        # gather gradients for the first n iterations with a small decay\n",
    "        grad = (decay * grad) + (image.grad.data / torch.norm(image.grad.data, p=1))\n",
    "        \n",
    "        # Create the perturbed image by adjusting each pixel of the input image\n",
    "        image = image + epsilon * grad.sign()\n",
    "        image = torch.clamp(image, min=0, max=1).detach()\n",
    "    \n",
    "    return image"
   ]
  },
  {
   "cell_type": "code",
   "execution_count": 15,
   "id": "00c4dc8c",
   "metadata": {},
   "outputs": [],
   "source": [
    "correct = 0\n",
    "test_loader_iter = iter(test_loader)\n",
    "\n",
    "for j in range(1000):\n",
    "    image, label = next(test_loader_iter)\n",
    "    \n",
    "    initial_prediction = torch.argmax(model(image.to(device))).item()\n",
    "    # Don't bother attacking if the image is already misclassified\n",
    "    if initial_prediction != label:\n",
    "        continue\n",
    "\n",
    "    # Generate FGSM adversarial example\n",
    "    adv_image = mdiifgsm(image      = image.to(device), \n",
    "                         label      = label.to(device), \n",
    "                         epsilon    = 0.1, \n",
    "                         iters      = 3, \n",
    "                         decay      = 1.0, \n",
    "                         prob       = 0.5, \n",
    "                         rand_range = (22,27))\n",
    "\n",
    "    final_prediction = torch.argmax(model(adv_image)).item()\n",
    "\n",
    "    # Correct if the prediction is the target label\n",
    "    if final_prediction != label:\n",
    "        correct += 1\n",
    "    \n",
    "# Calculate final accuracy for this epsilon    \n",
    "accuracy = correct/1000"
   ]
  },
  {
   "cell_type": "code",
   "execution_count": 16,
   "id": "be1d53f7",
   "metadata": {},
   "outputs": [
    {
     "data": {
      "text/plain": [
       "0.964"
      ]
     },
     "execution_count": 16,
     "metadata": {},
     "output_type": "execute_result"
    }
   ],
   "source": [
    "accuracy"
   ]
  },
  {
   "cell_type": "code",
   "execution_count": null,
   "id": "1fa80836",
   "metadata": {},
   "outputs": [],
   "source": []
  }
 ],
 "metadata": {
  "kernelspec": {
   "display_name": "Python 3 (ipykernel)",
   "language": "python",
   "name": "python3"
  },
  "language_info": {
   "codemirror_mode": {
    "name": "ipython",
    "version": 3
   },
   "file_extension": ".py",
   "mimetype": "text/x-python",
   "name": "python",
   "nbconvert_exporter": "python",
   "pygments_lexer": "ipython3",
   "version": "3.8.12"
  }
 },
 "nbformat": 4,
 "nbformat_minor": 5
}
